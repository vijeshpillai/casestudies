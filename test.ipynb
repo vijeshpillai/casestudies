{
 "cells": [
  {
   "cell_type": "code",
   "execution_count": 20,
   "id": "4c6bd648",
   "metadata": {},
   "outputs": [],
   "source": [
    "import re\n",
    "text = '''\n",
    "\n",
    "Code Man's code is so efficient, he once saved a client $10,000 by deleting a single semicolon.\n",
    "In the heat of battle, Syntax Slayer would code so furiously that his keyboard would catch fire.\n",
    "Regex Rex could spot a misplaced semicolon from a mile away, no problem.\n",
    "At precisely 2:47PM, ByteBoy finished debugging his program and saved the company $1 million.\n",
    "With her lightning-fast typing skills, Keyboard Queen can code circles around her coworkers. Literally, she once wrote a program that made the computer screen display a rotating circle of text that read 'I'm faster than you'.\n",
    "The legendary programmer known only as 'Barbarian Bob' was feared by his colleagues for his ruthless coding style. He once wrote an algorithm that duplicated the word 'barbarian' 100 times, just to prove a point.\n",
    "Cash Coder never works for free. His hourly rate is $1,000. But don't worry, he's worth every penny. He once coded a program that made a toaster sing 'Sweet Child O' Mine' every time it popped.\n",
    "\n",
    "'''\n",
    "pattern = re.compile(r'(\\b\\w{4,}\\b)*\\1')\n",
    "matches = pattern.finditer(text)\n",
    "for match in matches:\n",
    "    print(match)"
   ]
  },
  {
   "cell_type": "code",
   "execution_count": null,
   "id": "46d229e9-2ea8-4b80-a8dd-6ee6f610ecdc",
   "metadata": {},
   "outputs": [],
   "source": []
  }
 ],
 "metadata": {
  "kernelspec": {
   "display_name": "Python (casestudiesenv)",
   "language": "python",
   "name": "casestudiesenv"
  },
  "language_info": {
   "codemirror_mode": {
    "name": "ipython",
    "version": 3
   },
   "file_extension": ".py",
   "mimetype": "text/x-python",
   "name": "python",
   "nbconvert_exporter": "python",
   "pygments_lexer": "ipython3",
   "version": "3.13.7"
  }
 },
 "nbformat": 4,
 "nbformat_minor": 5
}
